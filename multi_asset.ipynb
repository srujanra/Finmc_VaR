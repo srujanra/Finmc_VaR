{
 "cells": [
  {
   "cell_type": "markdown",
   "metadata": {},
   "source": [
    "## Introduction\n",
    "\n",
    "Value at Risk (VaR) is a widely used risk management metric that quantifies the potential loss in portfolio value over a given time horizon at a specific confidence level. In this notebook, we demonstrate the calculation of VaR for a portfolio of multiple assets using the Multi-Asset Black-Scholes Model implemented in the Finmc library.\n",
    "\n",
    "The Multi-Asset Black-Scholes Model extends the classic Black-Scholes framework to handle portfolios with multiple correlated assets. It uses Monte Carlo simulations to generate future price paths for each asset based on their volatilities, correlations, and initial conditions. These simulated price paths are then used to estimate the distribution of portfolio returns, enabling the computation of VaR."
   ]
  },
  {
   "cell_type": "markdown",
   "metadata": {},
   "source": [
    "## Step 1: Importing Packages\n",
    "In this step, we import the necessary libraries and tools required for the calculations:\n",
    "\n",
    "NumPy: For numerical computations like matrix operations.\n",
    "Pandas: For data manipulation and analysis (if needed).\n",
    "Finmc: The library used for implementing the Multi-Asset Black-Scholes Model.\n",
    "Matplotlib: For plotting the VaR results and visualizing the data."
   ]
  },
  {
   "cell_type": "code",
   "execution_count": 6,
   "metadata": {},
   "outputs": [],
   "source": [
    "import numpy as np\n",
    "from finmc.models.multi import BSMC\n",
    "np.set_printoptions(threshold=1000)"
   ]
  },
  {
   "cell_type": "markdown",
   "metadata": {},
   "source": [
    "## Step 2: Defining the Function\n",
    "Here, we define the core function that calculates VaR:\n",
    "\n",
    "The function takes simulated spot prices, number of shares, portfolio value, and confidence interval as inputs.\n",
    "It calculates:\n",
    "Portfolio Values for each Monte Carlo path using matrix multiplication.\n",
    "Portfolio Returns relative to the initial portfolio value.\n",
    "VaR by sorting the returns and identifying the value at the required confidence level.\n",
    "The function returns the absolute VaR, which represents the potential portfolio loss at the specified confidence level.\n",
    "This step modularizes the VaR calculation, making it reusable for different inputs."
   ]
  },
  {
   "cell_type": "code",
   "execution_count": 7,
   "metadata": {},
   "outputs": [],
   "source": [
    "# VaR Calculation Function\n",
    "def calculate_var(simulated_spots, num_shares, portfolio_value, confidence_interval=0.99):\n",
    "    \"\"\"\n",
    "    Calculate VaR for a portfolio based on simulated spot prices.\n",
    "\n",
    "    Parameters:\n",
    "    - simulated_spots: N x M array of simulated spot prices, for N paths and M assets\n",
    "    - num_shares: Number of shares for each asset in the portfolio\n",
    "    - portfolio_value: Initial portfolio value\n",
    "    - confidence_interval: Confidence interval for VaR (default 95%)\n",
    "\n",
    "    Returns:\n",
    "    - Absolute VaR value\n",
    "    \"\"\"\n",
    "    # Get portoflio value of each path from simulated spot prices and number of shares\n",
    "    simulated_portfolio_values = np.matmul(simulated_spots, num_shares)\n",
    "\n",
    "    # Calculate returns relative to the initial portfolio value\n",
    "    portfolio_returns = (simulated_portfolio_values - portfolio_value) / portfolio_value\n",
    "\n",
    "    # Sort returns to rank them\n",
    "    sorted_returns = np.sort(portfolio_returns)\n",
    "\n",
    "    # Confidence interval and alpha\n",
    "    alpha = 1 - confidence_interval\n",
    "\n",
    "    # Calculate rank position\n",
    "    num_data = len(sorted_returns)\n",
    "    rank_position = int(np.ceil(alpha * num_data))  # Round up to ensure conservative estimate\n",
    "\n",
    "    # Extract VaR return using the rank position\n",
    "    VaR_return = sorted_returns[rank_position - 1]  # Subtract 1 because arrays are 0-indexed\n",
    "\n",
    "    # Absolute VaR\n",
    "    VaR = portfolio_value * VaR_return\n",
    "\n",
    "    return -VaR  # VaR is reported as a positive loss value\n"
   ]
  },
  {
   "cell_type": "markdown",
   "metadata": {},
   "source": [
    "## Step 3: Defining the Dataset\n",
    "In this step, we set up the dataset required by the Finmc library:\n",
    "\n",
    "Define:\n",
    "Monte Carlo parameters: Number of paths, time steps, and random seed.\n",
    "Asset details: Spot prices, volatilities, and forward curves for NVIDIA and Intel.\n",
    "Covariance matrix: Incorporating correlations between assets.\n",
    "The dataset acts as an input to the Finmc model, enabling it to simulate price paths for the assets.\n",
    "This ensures the model is configured with realistic market parameters for the simulation."
   ]
  },
  {
   "cell_type": "markdown",
   "metadata": {},
   "source": [
    "Create dataset for this model. See [Multi-Asset BS Model Documentation](https://finlib.github.io/finmc/models/bsm/) for explanation of model parameters."
   ]
  },
  {
   "cell_type": "code",
   "execution_count": 8,
   "metadata": {},
   "outputs": [],
   "source": [
    "\n",
    "\n",
    "# Covariance parameters\n",
    "v1 = 0.3\n",
    "v2 = 0.2\n",
    "rho_values = [-0.9, -0.5, 0.0, 0.5, 0.9]  # Correlation values\n",
    "\n",
    "# Dataset for BSMC model\n",
    "dataset = {\n",
    "    \"MC\": {\n",
    "        \"PATHS\": 100_000,\n",
    "        \"TIMESTEP\": 1 / 10,\n",
    "        \"SEED\": 1,\n",
    "    },\n",
    "    \"BASE\": \"USD\",\n",
    "    \"ASSETS\": {\n",
    "        \"USD\": (\"ZERO_RATES\", np.array([[2.0, 0.05]])),\n",
    "        \"NVDA\": (\"FORWARD\", np.array([[0.0, 116.00], [2.0, 120.64]])),\n",
    "        \"INTC\": (\"FORWARD\", np.array([[0.0, 21.84], [2.0, 22.70]])),\n",
    "    },\n",
    "    \"BSM\": {\n",
    "        \"ASSETS\": [\"NVDA\", \"INTC\"],\n",
    "        \"COV\": np.array(  # Default covariance matrix with rho = 0\n",
    "            [\n",
    "                [v1 * v1, 0.0],\n",
    "                [0.0, v2 * v2],\n",
    "            ]\n",
    "        ),\n",
    "    },\n",
    "}\n",
    "\n"
   ]
  },
  {
   "cell_type": "markdown",
   "metadata": {},
   "source": [
    "## Step 4: Running the Model and Calculating VaR\n",
    "This step involves multiple substeps:\n",
    "\n",
    "Initialize the Model:\n",
    "\n",
    "The BSMC model is initialized with the dataset, preparing it to simulate asset price paths.\n",
    "Portfolio Setup:\n",
    "\n",
    "Define the portfolio value ($1,000,000) and calculate the number of shares for each asset based on the weights and initial spot prices.\n",
    "Iterate Over Correlation Values \n",
    "\n",
    "Calculate VaR:\n",
    "\n",
    "Call the VaR function with the simulated spot prices and portfolio setup.\n",
    "Store and print the VaR for each ρ value."
   ]
  },
  {
   "cell_type": "code",
   "execution_count": 9,
   "metadata": {},
   "outputs": [
    {
     "name": "stdout",
     "output_type": "stream",
     "text": [
      "VaR at 95% confidence level for rho=-0.9: $10,613.16\n",
      "VaR at 95% confidence level for rho=-0.5: $19,284.18\n",
      "VaR at 95% confidence level for rho=0.0: $26,021.04\n",
      "VaR at 95% confidence level for rho=0.5: $31,470.63\n",
      "VaR at 95% confidence level for rho=0.9: $35,267.01\n"
     ]
    }
   ],
   "source": [
    "# Initialize the model\n",
    "model = BSMC(dataset)\n",
    "\n",
    "# Portfolio value\n",
    "portfolio_value = 1_000_000\n",
    "var_values = []\n",
    "\n",
    "# Iterate over rho values and calculate VaR\n",
    "for rho in rho_values:\n",
    "    # Update covariance matrix\n",
    "    dataset[\"BSM\"][\"COV\"] = np.array(\n",
    "        [\n",
    "            [v1 * v1, rho * v1 * v2],\n",
    "            [rho * v1 * v2, v2 * v2],\n",
    "        ]\n",
    "    )\n",
    "\n",
    "    # Reset and advance the model\n",
    "    model.reset()\n",
    "    model.advance(0.004)\n",
    "\n",
    "    # Get simulated spot prices into an N X M array, where N is the number of paths and M is the number of assets\n",
    "    simulated_spots = np.stack([\n",
    "        model.get_value(\"NVDA\"),\n",
    "        model.get_value(\"INTC\")\n",
    "    ], axis=1)\n",
    "\n",
    "    original_spots = np.array([116.00, 21.84])\n",
    "    asset_wts = np.array([0.5, 0.5])\n",
    "    num_shares = portfolio_value * asset_wts / original_spots  # number of shares for each asset\n",
    "\n",
    "    # Calculate VaR\n",
    "    var = calculate_var(simulated_spots, num_shares, portfolio_value)\n",
    "    print(f\"VaR at 95% confidence level for rho={rho}: ${var:,.2f}\")\n",
    "    var_values.append(var)\n"
   ]
  },
  {
   "cell_type": "markdown",
   "metadata": {},
   "source": [
    "## Step 5: Plotting the VaR and Conclusion\n",
    "Finally, we visualize the calculated VaR values:\n",
    "\n",
    "Create a plot of VaR vs. Correlation (𝜌) to understand the impact of correlation on portfolio risk.\n",
    "Add labels, titles, and legends for clarity.\n",
    "In the conclusion, summarize key observations, such as:\n",
    "\n",
    "The effect of increasing correlation on VaR.\n",
    "Insights into portfolio risk dynamics and diversification benefits.\n",
    "Practical applications of the Multi-Asset Black-Scholes Model in risk management.\n",
    "This step provides a visual and interpretive summary of the analysis, enhancing the overall understanding of the results."
   ]
  },
  {
   "cell_type": "code",
   "execution_count": 10,
   "metadata": {},
   "outputs": [
    {
     "data": {
      "image/png": "[encoded data removed]",
      "text/plain": [
       "<Figure size 640x480 with 1 Axes>"
      ]
     },
     "metadata": {},
     "output_type": "display_data"
    }
   ],
   "source": [
    "import matplotlib.pyplot as plt\n",
    "\n",
    "plt.plot(rho_values, var_values, marker=\"o\")\n",
    "plt.xlabel(\"Correlation (ρ)\")\n",
    "plt.ylabel(\"VaR ($)\")\n",
    "plt.title(\"VaR vs. Correlation\")\n",
    "plt.grid()\n",
    "plt.show()\n"
   ]
  }
 ],
 "metadata": {
  "kernelspec": {
   "display_name": ".venv",
   "language": "python",
   "name": "python3"
  },
  "language_info": {
   "codemirror_mode": {
    "name": "ipython",
    "version": 3
   },
   "file_extension": ".py",
   "mimetype": "text/x-python",
   "name": "python",
   "nbconvert_exporter": "python",
   "pygments_lexer": "ipython3",
   "version": "3.10.11"
  }
 },
 "nbformat": 4,
 "nbformat_minor": 2
}
